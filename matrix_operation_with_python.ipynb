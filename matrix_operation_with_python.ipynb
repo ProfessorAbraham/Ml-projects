{
  "nbformat": 4,
  "nbformat_minor": 0,
  "metadata": {
    "colab": {
      "provenance": [],
      "authorship_tag": "ABX9TyPnA+fS8PLOxGxZX7w5qqxR"
    },
    "kernelspec": {
      "name": "python3",
      "display_name": "Python 3"
    },
    "language_info": {
      "name": "python"
    }
  },
  "cells": [
    {
      "cell_type": "code",
      "execution_count": null,
      "metadata": {
        "colab": {
          "base_uri": "https://localhost:8080/"
        },
        "id": "kq2oDXUyp07F",
        "outputId": "2db7fddf-b5f6-44c2-c763-494ce003f633"
      },
      "outputs": [
        {
          "output_type": "stream",
          "name": "stdout",
          "text": [
            "[[2 3]\n",
            " [5 6]]\n"
          ]
        }
      ],
      "source": [
        "import numpy as np\n",
        "matrix_1 = np.array([[2,3],[5,6]]\n",
        "              )\n",
        "print(matrix_1)"
      ]
    },
    {
      "cell_type": "code",
      "source": [
        "matrix_1.shape"
      ],
      "metadata": {
        "colab": {
          "base_uri": "https://localhost:8080/"
        },
        "id": "5vp94mtGqCnv",
        "outputId": "b51adeb5-912f-48a6-896e-43fc3500894f"
      },
      "execution_count": null,
      "outputs": [
        {
          "output_type": "execute_result",
          "data": {
            "text/plain": [
              "(2, 2)"
            ]
          },
          "metadata": {},
          "execution_count": 2
        }
      ]
    },
    {
      "cell_type": "code",
      "source": [
        "matrix_2= np.array([[1,3],[4,6]])\n",
        "print(matrix_2)"
      ],
      "metadata": {
        "colab": {
          "base_uri": "https://localhost:8080/"
        },
        "id": "Kkev88ppqG_y",
        "outputId": "27920b55-e8eb-452f-8547-664bc82aad53"
      },
      "execution_count": 32,
      "outputs": [
        {
          "output_type": "stream",
          "name": "stdout",
          "text": [
            "[[1 3]\n",
            " [4 6]]\n"
          ]
        }
      ]
    },
    {
      "cell_type": "code",
      "source": [
        "matrix_2.shape"
      ],
      "metadata": {
        "colab": {
          "base_uri": "https://localhost:8080/"
        },
        "id": "X-XucW9PqJLj",
        "outputId": "9345d07d-b2ad-49a9-87bb-b1fc0c9448ff"
      },
      "execution_count": 33,
      "outputs": [
        {
          "output_type": "execute_result",
          "data": {
            "text/plain": [
              "(2, 2)"
            ]
          },
          "metadata": {},
          "execution_count": 33
        }
      ]
    },
    {
      "cell_type": "markdown",
      "source": [
        "Creating matrices with random values\n"
      ],
      "metadata": {
        "id": "VBdXapzdqd46"
      }
    },
    {
      "cell_type": "code",
      "source": [
        "\n",
        "random_matrix_1 = np.random.rand(3, 3)\n",
        "print( random_matrix_1)\n",
        "\n",
        "random_matrix_2 = np.random.randint(1, 10, size=(2, 4))\n",
        "print( random_matrix_2)\n",
        "\n",
        "random_int = np.random.randint(5, size=(3,3)\n",
        ")\n",
        "print( random_int)\n"
      ],
      "metadata": {
        "colab": {
          "base_uri": "https://localhost:8080/"
        },
        "id": "yB8-uTCqqYiT",
        "outputId": "f4221f7a-ff95-48c1-b990-f1d04c10caf1"
      },
      "execution_count": 34,
      "outputs": [
        {
          "output_type": "stream",
          "name": "stdout",
          "text": [
            "[[0.73681297 0.76340873 0.86791569]\n",
            " [0.2202557  0.59788463 0.94165586]\n",
            " [0.65713534 0.6165659  0.74065461]]\n",
            "[[4 5 5 2]\n",
            " [9 4 6 8]]\n",
            "[[3 4 1]\n",
            " [2 3 4]\n",
            " [2 0 4]]\n"
          ]
        }
      ]
    },
    {
      "cell_type": "markdown",
      "source": [
        "Matrix with all the values as 1"
      ],
      "metadata": {
        "id": "dixBxJBarX2R"
      }
    },
    {
      "cell_type": "code",
      "source": [
        "matrix_3 = np.ones((3, 3))\n",
        "print(matrix_3)"
      ],
      "metadata": {
        "colab": {
          "base_uri": "https://localhost:8080/"
        },
        "id": "Kxi0axtxqpge",
        "outputId": "c756ae5b-56c5-415c-cce3-edaa577dce5f"
      },
      "execution_count": 35,
      "outputs": [
        {
          "output_type": "stream",
          "name": "stdout",
          "text": [
            "[[1. 1. 1.]\n",
            " [1. 1. 1.]\n",
            " [1. 1. 1.]]\n"
          ]
        }
      ]
    },
    {
      "cell_type": "code",
      "source": [
        "matrix_4 = np.eye(10, dtype=int)\n",
        "print(matrix_4)"
      ],
      "metadata": {
        "colab": {
          "base_uri": "https://localhost:8080/"
        },
        "id": "AtSNQb0QrdX7",
        "outputId": "b5a1e2cb-6dc5-4d69-a2eb-df0c10ad2a72"
      },
      "execution_count": 36,
      "outputs": [
        {
          "output_type": "stream",
          "name": "stdout",
          "text": [
            "[[1 0 0 0 0 0 0 0 0 0]\n",
            " [0 1 0 0 0 0 0 0 0 0]\n",
            " [0 0 1 0 0 0 0 0 0 0]\n",
            " [0 0 0 1 0 0 0 0 0 0]\n",
            " [0 0 0 0 1 0 0 0 0 0]\n",
            " [0 0 0 0 0 1 0 0 0 0]\n",
            " [0 0 0 0 0 0 1 0 0 0]\n",
            " [0 0 0 0 0 0 0 1 0 0]\n",
            " [0 0 0 0 0 0 0 0 1 0]\n",
            " [0 0 0 0 0 0 0 0 0 1]]\n"
          ]
        }
      ]
    },
    {
      "cell_type": "code",
      "source": [
        "matrix_5 = np.eye(3, dtype=int)\n",
        "print(matrix_5)"
      ],
      "metadata": {
        "colab": {
          "base_uri": "https://localhost:8080/"
        },
        "id": "M86ZwqH5riFk",
        "outputId": "9d991733-b27c-402d-bdb5-2077a5020b47"
      },
      "execution_count": 37,
      "outputs": [
        {
          "output_type": "stream",
          "name": "stdout",
          "text": [
            "[[1 0 0]\n",
            " [0 1 0]\n",
            " [0 0 1]]\n"
          ]
        }
      ]
    },
    {
      "cell_type": "code",
      "source": [
        "# matrix with random integer transpose\n",
        "a = np.random.randint(100, size=(4,5))"
      ],
      "metadata": {
        "id": "qZbr7ZeJrn7V"
      },
      "execution_count": 38,
      "outputs": []
    },
    {
      "cell_type": "code",
      "source": [
        "print(a)"
      ],
      "metadata": {
        "colab": {
          "base_uri": "https://localhost:8080/"
        },
        "id": "LVQZweLCsKKM",
        "outputId": "844d5630-d875-457b-dec3-2820e361af0e"
      },
      "execution_count": 39,
      "outputs": [
        {
          "output_type": "stream",
          "name": "stdout",
          "text": [
            "[[ 3 51 86 31 88]\n",
            " [84 36 79 25 44]\n",
            " [24 29 27 53 99]\n",
            " [80 69 90 50 96]]\n"
          ]
        }
      ]
    },
    {
      "cell_type": "code",
      "source": [
        "transpose_of_a = np.transpose(a)"
      ],
      "metadata": {
        "id": "Ax_njYpxsRQs"
      },
      "execution_count": 40,
      "outputs": []
    },
    {
      "cell_type": "code",
      "source": [
        "print(transpose_of_a)"
      ],
      "metadata": {
        "id": "D8B10fL8sbTC",
        "outputId": "80959503-94ea-432c-dec0-fb2d1359cf64",
        "colab": {
          "base_uri": "https://localhost:8080/"
        }
      },
      "execution_count": 41,
      "outputs": [
        {
          "output_type": "stream",
          "name": "stdout",
          "text": [
            "[[ 3 84 24 80]\n",
            " [51 36 29 69]\n",
            " [86 79 27 90]\n",
            " [31 25 53 50]\n",
            " [88 44 99 96]]\n"
          ]
        }
      ]
    },
    {
      "cell_type": "code",
      "source": [
        "# multiplying matrixes the number of columns in the first matrix is equal to the number of rows in the second matri\n"
      ],
      "metadata": {
        "id": "u4Ah9nhZsdZ2"
      },
      "execution_count": 42,
      "outputs": []
    },
    {
      "cell_type": "code",
      "source": [
        "sum = matrix_1 + matrix_2\n",
        "\n",
        "print(sum)"
      ],
      "metadata": {
        "colab": {
          "base_uri": "https://localhost:8080/"
        },
        "id": "mJoPNSDsuilm",
        "outputId": "e8fe5b20-0593-464a-f4b4-151989c6f6ee"
      },
      "execution_count": 46,
      "outputs": [
        {
          "output_type": "stream",
          "name": "stdout",
          "text": [
            "[[ 3  6]\n",
            " [ 9 12]]\n"
          ]
        }
      ]
    },
    {
      "cell_type": "code",
      "source": [
        "diff = matrix_1 - matrix_2"
      ],
      "metadata": {
        "id": "o1x5Sn-buvU0"
      },
      "execution_count": 47,
      "outputs": []
    },
    {
      "cell_type": "code",
      "source": [
        "print(diff)"
      ],
      "metadata": {
        "colab": {
          "base_uri": "https://localhost:8080/"
        },
        "id": "uRFs5KOWu_Nj",
        "outputId": "704efe83-f22f-4bdf-ddca-a9c97414fbac"
      },
      "execution_count": 48,
      "outputs": [
        {
          "output_type": "stream",
          "name": "stdout",
          "text": [
            "[[1 0]\n",
            " [1 0]]\n"
          ]
        }
      ]
    },
    {
      "cell_type": "code",
      "source": [
        "multiply = np.multiply(4,matrix_2)"
      ],
      "metadata": {
        "id": "JP15FgNMvAVt"
      },
      "execution_count": 57,
      "outputs": []
    },
    {
      "cell_type": "code",
      "source": [
        "print(multiply)"
      ],
      "metadata": {
        "colab": {
          "base_uri": "https://localhost:8080/"
        },
        "id": "_g-oIpnzvCrU",
        "outputId": "8829b1c7-1f83-42bf-8b3e-55ec28e9093e"
      },
      "execution_count": 58,
      "outputs": [
        {
          "output_type": "stream",
          "name": "stdout",
          "text": [
            "[[ 4 12]\n",
            " [16 24]]\n"
          ]
        }
      ]
    },
    {
      "cell_type": "code",
      "source": [],
      "metadata": {
        "id": "C6s2zYnSvEWm"
      },
      "execution_count": null,
      "outputs": []
    }
  ]
}