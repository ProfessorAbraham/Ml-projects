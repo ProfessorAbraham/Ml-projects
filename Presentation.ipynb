{
  "nbformat": 4,
  "nbformat_minor": 0,
  "metadata": {
    "colab": {
      "provenance": [],
      "collapsed_sections": [
        "ODi9nzq8fzr0"
      ],
      "authorship_tag": "ABX9TyNrDgqw+MzcAq+ZSfkoGiaU",
      "include_colab_link": true
    },
    "kernelspec": {
      "name": "python3",
      "display_name": "Python 3"
    },
    "language_info": {
      "name": "python"
    }
  },
  "cells": [
    {
      "cell_type": "markdown",
      "metadata": {
        "id": "view-in-github",
        "colab_type": "text"
      },
      "source": [
        "<a href=\"https://colab.research.google.com/github/ProfessorAbraham/Ml-projects/blob/main/Presentation.ipynb\" target=\"_parent\"><img src=\"https://colab.research.google.com/assets/colab-badge.svg\" alt=\"Open In Colab\"/></a>"
      ]
    },
    {
      "cell_type": "markdown",
      "source": [
        "### **Object Oriented Programming Concepts with Rectangle and Square Classes**\n",
        "  **Encapsulation**\n",
        "\n",
        "  **Inheritance**\n",
        "\n",
        "\n",
        "  **Polymorphism (Method Overriding)**\n",
        "\n",
        "\n",
        "\n"
      ],
      "metadata": {
        "id": "K-kjCaa9cxAv"
      }
    },
    {
      "cell_type": "markdown",
      "source": [
        "## 1. Encapsulation\n",
        "This is a method of restricting direct access to object attributes and modifying them through methods.\n"
      ],
      "metadata": {
        "id": "u6KpYnD9dyy6"
      }
    },
    {
      "cell_type": "code",
      "source": [
        "class Rectangle:\n",
        "    # the constructor to use the width and height\n",
        "    def __init__(self, width, height):\n",
        "        self.width = width\n",
        "        self.height = height\n",
        "    # set the width of the Rectangle\n",
        "    def set_width(self, width):\n",
        "        self.width = width\n",
        "    # set the height of the Rectangle\n",
        "    def set_height(self, height):\n",
        "        self.height = height\n",
        "    # area of the Rectangle\n",
        "    def get_area(self):\n",
        "        return self.width * self.height\n",
        "    # perimeter of the rectangle\n",
        "    def get_perimeter(self):\n",
        "        return 2 * (self.width + self.height)\n",
        "    # diagonal of of the rectangle\n",
        "    def get_diagonal(self):\n",
        "        return (self.width ** 2 + self.height ** 2) ** 0.5\n",
        "    # picutre of the rectangle\n",
        "    def get_picture(self):\n",
        "        if self.width > 50 or self.height > 50:\n",
        "            return \"Too big for picture.\"\n",
        "        return (\"*\" * self.width + \"\\n\") * self.height\n",
        "    # get amount of shape\n",
        "    def get_amount_inside(self, shape):\n",
        "        return (self.width // shape.width) * (self.height // shape.height)\n",
        "    # return string\n",
        "    def __str__(self):\n",
        "        return f\"Rectangle(width={self.width}, height={self.height})\"\n",
        "rect = Rectangle(10, 5)"
      ],
      "metadata": {
        "id": "HltETOC5eA3D"
      },
      "execution_count": null,
      "outputs": []
    },
    {
      "cell_type": "markdown",
      "source": [
        "Now, let's check the **Area** of the rectangle by calling the `get_area()` method.\n"
      ],
      "metadata": {
        "id": "SXlnra7eePGG"
      }
    },
    {
      "cell_type": "code",
      "source": [
        "rect.get_area()"
      ],
      "metadata": {
        "colab": {
          "base_uri": "https://localhost:8080/"
        },
        "id": "kV-RVkvFc7Qg",
        "outputId": "07e272d5-138a-45a9-94f5-44186be17757"
      },
      "execution_count": null,
      "outputs": [
        {
          "output_type": "execute_result",
          "data": {
            "text/plain": [
              "50"
            ]
          },
          "metadata": {},
          "execution_count": 11
        }
      ]
    },
    {
      "cell_type": "code",
      "source": [
        "rect.get_perimeter()"
      ],
      "metadata": {
        "colab": {
          "base_uri": "https://localhost:8080/"
        },
        "id": "VO-epp0RnMqX",
        "outputId": "6dd69c77-df27-44a2-f286-7bac73d1f088"
      },
      "execution_count": null,
      "outputs": [
        {
          "output_type": "execute_result",
          "data": {
            "text/plain": [
              "30"
            ]
          },
          "metadata": {},
          "execution_count": 12
        }
      ]
    },
    {
      "cell_type": "markdown",
      "source": [],
      "metadata": {
        "id": "ilhU01DonMSt"
      }
    },
    {
      "cell_type": "markdown",
      "source": [
        "## 2. Inheritance (Parent Child Relation)\n",
        "Inheritance allows a class to inherit the attributes and methods from another class.\n",
        "Here, the `Square` class inherits from the `Rectangle` class, meaning `Square` has access to methods like `get_area()` and `get_perimeter()`.\n"
      ],
      "metadata": {
        "id": "Hqz3_47qehog"
      }
    },
    {
      "cell_type": "code",
      "source": [
        "# Square Class Definition (inherits from Rectangle)\n",
        "class Square(Rectangle):\n",
        "    def __init__(self, side):\n",
        "        super().__init__(side, side)\n",
        "\n",
        "    def set_side(self, side):\n",
        "        self.width = side\n",
        "        self.height = side\n",
        "\n",
        "    def __str__(self):\n",
        "        return f\"Square(side={self.width})\"\n",
        "\n",
        "# Create a Square object\n",
        "sq = Square(9)"
      ],
      "metadata": {
        "id": "1Vz8R6n3eXMy"
      },
      "execution_count": null,
      "outputs": []
    },
    {
      "cell_type": "markdown",
      "source": [
        "Now, let's check the **Area** of the square by calling the `get_area()` method from the parent class Rectangle."
      ],
      "metadata": {
        "id": "dM-nG6cvewTL"
      }
    },
    {
      "cell_type": "code",
      "source": [
        "sq.get_area()"
      ],
      "metadata": {
        "colab": {
          "base_uri": "https://localhost:8080/"
        },
        "id": "d3O_HWtbery1",
        "outputId": "e522d3c8-a2f1-425b-c45d-d760e1b92949"
      },
      "execution_count": null,
      "outputs": [
        {
          "output_type": "execute_result",
          "data": {
            "text/plain": [
              "81"
            ]
          },
          "metadata": {},
          "execution_count": 14
        }
      ]
    },
    {
      "cell_type": "markdown",
      "source": [
        "## 3. Polymorphism\n",
        "Polymorphism allows a subclass to modify the behavior of inherited methods. In this example, the `__str__()` method is overridden in the `Square` class to provide a different string representation.\n"
      ],
      "metadata": {
        "id": "9msOFtLzfRC7"
      }
    },
    {
      "cell_type": "markdown",
      "source": [
        "\n",
        "Let's see the difference in the string representation of Rectangle and Square objects"
      ],
      "metadata": {
        "id": "L3yqCnwWfelu"
      }
    },
    {
      "cell_type": "code",
      "source": [
        "print(rect)\n",
        "print(sq)\n",
        "rect = Rectangle(10, 5)\n",
        "sq = Square(9)\n",
        "sq = rect"
      ],
      "metadata": {
        "colab": {
          "base_uri": "https://localhost:8080/"
        },
        "id": "ii1gOJXHfIVj",
        "outputId": "558ab7c1-1366-47b9-bba9-5b8e23f9584d"
      },
      "execution_count": null,
      "outputs": [
        {
          "output_type": "stream",
          "name": "stdout",
          "text": [
            "Rectangle(width=10, height=5)\n",
            "Square(side=9)\n"
          ]
        }
      ]
    },
    {
      "cell_type": "markdown",
      "source": [
        "## 4. General Usage Example\n",
        "As this is came from the challenge there were a test cases to testify so here we can see the test cases with the output\n"
      ],
      "metadata": {
        "id": "ODi9nzq8fzr0"
      }
    },
    {
      "cell_type": "code",
      "source": [
        "rect = Rectangle(10, 5)\n",
        "print(rect.get_area())\n",
        "rect.set_height(3)\n",
        "print(rect.get_perimeter())\n",
        "print(rect)\n",
        "print(rect.get_picture())\n",
        "\n",
        "sq = Square(9)\n",
        "print(sq.get_area())\n",
        "sq.set_side(4)\n",
        "print(sq.get_diagonal())\n",
        "print(sq)\n",
        "print(sq.get_picture())\n",
        "\n",
        "rect.set_height(8)\n",
        "rect.set_width(16)\n",
        "print(rect.get_amount_inside(sq))"
      ],
      "metadata": {
        "colab": {
          "base_uri": "https://localhost:8080/"
        },
        "id": "WYnXvkGBgCIX",
        "outputId": "e52b4a35-962a-4177-a3e4-945580b8af30"
      },
      "execution_count": null,
      "outputs": [
        {
          "output_type": "stream",
          "name": "stdout",
          "text": [
            "50\n",
            "26\n",
            "Rectangle(width=10, height=3)\n",
            "**********\n",
            "**********\n",
            "**********\n",
            "\n",
            "81\n",
            "5.656854249492381\n",
            "Square(side=4)\n",
            "****\n",
            "****\n",
            "****\n",
            "****\n",
            "\n",
            "8\n"
          ]
        }
      ]
    },
    {
      "cell_type": "code",
      "source": [],
      "metadata": {
        "id": "aFxJYSS2gDzC"
      },
      "execution_count": null,
      "outputs": []
    }
  ]
}